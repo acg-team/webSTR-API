{
 "cells": [
  {
   "cell_type": "code",
   "execution_count": 28,
   "metadata": {},
   "outputs": [],
   "source": [
    "import pandas as pd\n",
    "import numpy as np"
   ]
  },
  {
   "attachments": {},
   "cell_type": "markdown",
   "metadata": {},
   "source": [
    "By comparing STR mutation pattern between MSI-H and MSS tumors, 2901 STR Loci were identified to be significantly different (P < 0.05, Kolmogorov–Smirnov)."
   ]
  },
  {
   "cell_type": "code",
   "execution_count": 29,
   "metadata": {},
   "outputs": [
    {
     "data": {
      "text/plain": [
       "(2901, 7)"
      ]
     },
     "execution_count": 29,
     "metadata": {},
     "output_type": "execute_result"
    }
   ],
   "source": [
    "msi_str = pd.read_csv(\"MSI_related_str.csv\").sort_values(by = \"pvalue\")\n",
    "msi_str.shape"
   ]
  },
  {
   "cell_type": "code",
   "execution_count": 30,
   "metadata": {},
   "outputs": [
    {
     "data": {
      "text/plain": [
       "1    2794\n",
       "2     100\n",
       "3       4\n",
       "4       3\n",
       "Name: STR_unit_size, dtype: int64"
      ]
     },
     "execution_count": 30,
     "metadata": {},
     "output_type": "execute_result"
    }
   ],
   "source": [
    "msi_str.STR_unit_size.value_counts()"
   ]
  },
  {
   "cell_type": "code",
   "execution_count": 31,
   "metadata": {},
   "outputs": [
    {
     "data": {
      "text/plain": [
       "intron      2423\n",
       "utr          307\n",
       "cds          102\n",
       "promoter      69\n",
       "Name: region_type, dtype: int64"
      ]
     },
     "execution_count": 31,
     "metadata": {},
     "output_type": "execute_result"
    }
   ],
   "source": [
    "msi_str.region_type.value_counts()"
   ]
  },
  {
   "attachments": {},
   "cell_type": "markdown",
   "metadata": {},
   "source": [
    "#### Mismatch repair genes\n",
    "and genes from Table 1 The Genetic Targets of Microsatellite Instability in Colorectal Cancer <br>\n",
    "Boland, C. Richard, and Ajay Goel. \"Microsatellite instability in colorectal cancer.\" Gastroenterology 138.6 (2010): 2073-2087."
   ]
  },
  {
   "cell_type": "code",
   "execution_count": 67,
   "metadata": {},
   "outputs": [],
   "source": [
    "mmr = [\"MSH2\", \"MSH3\", \"MSH6\", \"MLH1\", \"MLH2\", \"MLH3\", \"PMS1\", \"PMS2\",\"AIM2\",\"CASP5\", \"MBD4\", \"OGT\", \"SEC63\", \"TGFBR2\", \"BLM\", \"CHK1\",\n",
    "       \"GRB14\", \"RAD50\", \"RHAMM\", \"RIZ\", \"TCF4\", \"WISP3\", \"ACVR\",\"APAF\",\"BCL10\",\"PTEN\", \"OGT\", \"KIAA0971\", \"NADH-UOB\"]"
   ]
  },
  {
   "cell_type": "code",
   "execution_count": 68,
   "metadata": {},
   "outputs": [
    {
     "data": {
      "text/html": [
       "<div>\n",
       "<style scoped>\n",
       "    .dataframe tbody tr th:only-of-type {\n",
       "        vertical-align: middle;\n",
       "    }\n",
       "\n",
       "    .dataframe tbody tr th {\n",
       "        vertical-align: top;\n",
       "    }\n",
       "\n",
       "    .dataframe thead th {\n",
       "        text-align: right;\n",
       "    }\n",
       "</style>\n",
       "<table border=\"1\" class=\"dataframe\">\n",
       "  <thead>\n",
       "    <tr style=\"text-align: right;\">\n",
       "      <th></th>\n",
       "      <th>name</th>\n",
       "      <th>STR_unit_size</th>\n",
       "      <th>msa_x</th>\n",
       "      <th>region_type</th>\n",
       "      <th>ks_stat</th>\n",
       "      <th>pvalue</th>\n",
       "      <th>gene_name</th>\n",
       "    </tr>\n",
       "  </thead>\n",
       "  <tbody>\n",
       "    <tr>\n",
       "      <th>24</th>\n",
       "      <td>chr1_159062697</td>\n",
       "      <td>1</td>\n",
       "      <td>T,T,T,T,T,T,T,T,T,T</td>\n",
       "      <td>utr</td>\n",
       "      <td>0.852021</td>\n",
       "      <td>1.530000e-15</td>\n",
       "      <td>AIM2</td>\n",
       "    </tr>\n",
       "    <tr>\n",
       "      <th>89</th>\n",
       "      <td>chr2_189822450</td>\n",
       "      <td>1</td>\n",
       "      <td>T,T,T,T,T,T,T,T,T</td>\n",
       "      <td>intron</td>\n",
       "      <td>0.765065</td>\n",
       "      <td>5.810000e-12</td>\n",
       "      <td>PMS1</td>\n",
       "    </tr>\n",
       "    <tr>\n",
       "      <th>167</th>\n",
       "      <td>chr6_107921916</td>\n",
       "      <td>1</td>\n",
       "      <td>A,A,A,A,A,C,A,A,A,A,A,A,A,A,A,A,A,A,C,A,A</td>\n",
       "      <td>intron</td>\n",
       "      <td>0.720442</td>\n",
       "      <td>2.160000e-10</td>\n",
       "      <td>SEC63</td>\n",
       "    </tr>\n",
       "    <tr>\n",
       "      <th>407</th>\n",
       "      <td>chr3_30650380</td>\n",
       "      <td>1</td>\n",
       "      <td>A,A,A,A,A,A,A,A,A,A</td>\n",
       "      <td>cds</td>\n",
       "      <td>0.616323</td>\n",
       "      <td>1.660000e-07</td>\n",
       "      <td>TGFBR2</td>\n",
       "    </tr>\n",
       "    <tr>\n",
       "      <th>491</th>\n",
       "      <td>chr2_47805602</td>\n",
       "      <td>1</td>\n",
       "      <td>T,T,T,T,T,T,T,T,T,T,T,T,T</td>\n",
       "      <td>intron</td>\n",
       "      <td>0.590770</td>\n",
       "      <td>6.880000e-07</td>\n",
       "      <td>MSH6:FBXO11</td>\n",
       "    </tr>\n",
       "    <tr>\n",
       "      <th>526</th>\n",
       "      <td>chr2_47408385</td>\n",
       "      <td>1</td>\n",
       "      <td>T,T,T,T,T,T,T,T,T,T,T,T,T</td>\n",
       "      <td>intron</td>\n",
       "      <td>0.582380</td>\n",
       "      <td>1.090000e-06</td>\n",
       "      <td>MSH2</td>\n",
       "    </tr>\n",
       "    <tr>\n",
       "      <th>805</th>\n",
       "      <td>chr2_157799372</td>\n",
       "      <td>1</td>\n",
       "      <td>A,A,A,A,A,A,A,A,A,A,A</td>\n",
       "      <td>intron</td>\n",
       "      <td>0.529748</td>\n",
       "      <td>1.480000e-05</td>\n",
       "      <td>ACVR1</td>\n",
       "    </tr>\n",
       "    <tr>\n",
       "      <th>1074</th>\n",
       "      <td>chr7_5997427</td>\n",
       "      <td>1</td>\n",
       "      <td>A,A,A,A,A,A,A,A,A,A,A,A,A,A,A,A,A</td>\n",
       "      <td>intron</td>\n",
       "      <td>0.486270</td>\n",
       "      <td>1.017700e-04</td>\n",
       "      <td>PMS2</td>\n",
       "    </tr>\n",
       "    <tr>\n",
       "      <th>1149</th>\n",
       "      <td>chr18_55260045</td>\n",
       "      <td>1</td>\n",
       "      <td>A,A,A,A,A,A,A,A,A,A</td>\n",
       "      <td>intron</td>\n",
       "      <td>0.477117</td>\n",
       "      <td>1.483490e-04</td>\n",
       "      <td>TCF4</td>\n",
       "    </tr>\n",
       "    <tr>\n",
       "      <th>1313</th>\n",
       "      <td>chr10_87960862</td>\n",
       "      <td>1</td>\n",
       "      <td>T,T,T,C,T,T,T,T,T,C,T,T,T,T,C,T,T,T,T,T,T,T,T,...</td>\n",
       "      <td>intron</td>\n",
       "      <td>0.451945</td>\n",
       "      <td>4.113060e-04</td>\n",
       "      <td>PTEN</td>\n",
       "    </tr>\n",
       "    <tr>\n",
       "      <th>1444</th>\n",
       "      <td>chr3_68987374</td>\n",
       "      <td>1</td>\n",
       "      <td>A,A,A,A,A,A,A,A,A,A,A,A,A</td>\n",
       "      <td>intron</td>\n",
       "      <td>0.434401</td>\n",
       "      <td>7.914310e-04</td>\n",
       "      <td>EOGT</td>\n",
       "    </tr>\n",
       "    <tr>\n",
       "      <th>1711</th>\n",
       "      <td>chr11_105008960</td>\n",
       "      <td>1</td>\n",
       "      <td>T,T,T,T,T,T,T,T,T,T</td>\n",
       "      <td>cds</td>\n",
       "      <td>0.408085</td>\n",
       "      <td>2.001230e-03</td>\n",
       "      <td>CASP5</td>\n",
       "    </tr>\n",
       "    <tr>\n",
       "      <th>1924</th>\n",
       "      <td>chr14_75030726</td>\n",
       "      <td>1</td>\n",
       "      <td>A,A,A,A,A,A,A,A,A,A,A</td>\n",
       "      <td>intron</td>\n",
       "      <td>0.382532</td>\n",
       "      <td>4.725352e-03</td>\n",
       "      <td>MLH3</td>\n",
       "    </tr>\n",
       "    <tr>\n",
       "      <th>1922</th>\n",
       "      <td>chr12_98665539</td>\n",
       "      <td>1</td>\n",
       "      <td>T,T,T,T,T,T,T,T,T,T</td>\n",
       "      <td>intron</td>\n",
       "      <td>0.382532</td>\n",
       "      <td>4.725352e-03</td>\n",
       "      <td>APAF1</td>\n",
       "    </tr>\n",
       "    <tr>\n",
       "      <th>1944</th>\n",
       "      <td>chr6_107901524</td>\n",
       "      <td>1</td>\n",
       "      <td>A,A,A,A,A,A,A,A,A,A,A,A,G,A,A,A,A</td>\n",
       "      <td>intron</td>\n",
       "      <td>0.382151</td>\n",
       "      <td>4.730542e-03</td>\n",
       "      <td>SEC63</td>\n",
       "    </tr>\n",
       "    <tr>\n",
       "      <th>1972</th>\n",
       "      <td>chr11_104999045</td>\n",
       "      <td>1</td>\n",
       "      <td>T,T,T,C,T,T,T,T,T,T,T,T,T,T</td>\n",
       "      <td>intron</td>\n",
       "      <td>0.381770</td>\n",
       "      <td>4.754132e-03</td>\n",
       "      <td>CASP5</td>\n",
       "    </tr>\n",
       "    <tr>\n",
       "      <th>2167</th>\n",
       "      <td>chr11_105026399</td>\n",
       "      <td>1</td>\n",
       "      <td>T,T,T,T,T,T,T,T,T,T</td>\n",
       "      <td>promoter</td>\n",
       "      <td>0.360793</td>\n",
       "      <td>1.024347e-02</td>\n",
       "      <td>CASP5:CASP1</td>\n",
       "    </tr>\n",
       "    <tr>\n",
       "      <th>2186</th>\n",
       "      <td>chr5_80792675</td>\n",
       "      <td>1</td>\n",
       "      <td>T,T,T,T,T,T,T,T,T,T</td>\n",
       "      <td>intron</td>\n",
       "      <td>0.356217</td>\n",
       "      <td>1.050929e-02</td>\n",
       "      <td>MSH3</td>\n",
       "    </tr>\n",
       "    <tr>\n",
       "      <th>2667</th>\n",
       "      <td>chr2_189805814</td>\n",
       "      <td>1</td>\n",
       "      <td>A,A,A,A,A,A,A,A,A,A,A</td>\n",
       "      <td>cds</td>\n",
       "      <td>0.320366</td>\n",
       "      <td>2.833779e-02</td>\n",
       "      <td>PMS1</td>\n",
       "    </tr>\n",
       "  </tbody>\n",
       "</table>\n",
       "</div>"
      ],
      "text/plain": [
       "                 name  STR_unit_size  \\\n",
       "24     chr1_159062697              1   \n",
       "89     chr2_189822450              1   \n",
       "167    chr6_107921916              1   \n",
       "407     chr3_30650380              1   \n",
       "491     chr2_47805602              1   \n",
       "526     chr2_47408385              1   \n",
       "805    chr2_157799372              1   \n",
       "1074     chr7_5997427              1   \n",
       "1149   chr18_55260045              1   \n",
       "1313   chr10_87960862              1   \n",
       "1444    chr3_68987374              1   \n",
       "1711  chr11_105008960              1   \n",
       "1924   chr14_75030726              1   \n",
       "1922   chr12_98665539              1   \n",
       "1944   chr6_107901524              1   \n",
       "1972  chr11_104999045              1   \n",
       "2167  chr11_105026399              1   \n",
       "2186    chr5_80792675              1   \n",
       "2667   chr2_189805814              1   \n",
       "\n",
       "                                                  msa_x region_type   ks_stat  \\\n",
       "24                                  T,T,T,T,T,T,T,T,T,T         utr  0.852021   \n",
       "89                                    T,T,T,T,T,T,T,T,T      intron  0.765065   \n",
       "167           A,A,A,A,A,C,A,A,A,A,A,A,A,A,A,A,A,A,C,A,A      intron  0.720442   \n",
       "407                                 A,A,A,A,A,A,A,A,A,A         cds  0.616323   \n",
       "491                           T,T,T,T,T,T,T,T,T,T,T,T,T      intron  0.590770   \n",
       "526                           T,T,T,T,T,T,T,T,T,T,T,T,T      intron  0.582380   \n",
       "805                               A,A,A,A,A,A,A,A,A,A,A      intron  0.529748   \n",
       "1074                  A,A,A,A,A,A,A,A,A,A,A,A,A,A,A,A,A      intron  0.486270   \n",
       "1149                                A,A,A,A,A,A,A,A,A,A      intron  0.477117   \n",
       "1313  T,T,T,C,T,T,T,T,T,C,T,T,T,T,C,T,T,T,T,T,T,T,T,...      intron  0.451945   \n",
       "1444                          A,A,A,A,A,A,A,A,A,A,A,A,A      intron  0.434401   \n",
       "1711                                T,T,T,T,T,T,T,T,T,T         cds  0.408085   \n",
       "1924                              A,A,A,A,A,A,A,A,A,A,A      intron  0.382532   \n",
       "1922                                T,T,T,T,T,T,T,T,T,T      intron  0.382532   \n",
       "1944                  A,A,A,A,A,A,A,A,A,A,A,A,G,A,A,A,A      intron  0.382151   \n",
       "1972                        T,T,T,C,T,T,T,T,T,T,T,T,T,T      intron  0.381770   \n",
       "2167                                T,T,T,T,T,T,T,T,T,T    promoter  0.360793   \n",
       "2186                                T,T,T,T,T,T,T,T,T,T      intron  0.356217   \n",
       "2667                              A,A,A,A,A,A,A,A,A,A,A         cds  0.320366   \n",
       "\n",
       "            pvalue    gene_name  \n",
       "24    1.530000e-15         AIM2  \n",
       "89    5.810000e-12         PMS1  \n",
       "167   2.160000e-10        SEC63  \n",
       "407   1.660000e-07       TGFBR2  \n",
       "491   6.880000e-07  MSH6:FBXO11  \n",
       "526   1.090000e-06         MSH2  \n",
       "805   1.480000e-05        ACVR1  \n",
       "1074  1.017700e-04         PMS2  \n",
       "1149  1.483490e-04         TCF4  \n",
       "1313  4.113060e-04         PTEN  \n",
       "1444  7.914310e-04         EOGT  \n",
       "1711  2.001230e-03        CASP5  \n",
       "1924  4.725352e-03         MLH3  \n",
       "1922  4.725352e-03        APAF1  \n",
       "1944  4.730542e-03        SEC63  \n",
       "1972  4.754132e-03        CASP5  \n",
       "2167  1.024347e-02  CASP5:CASP1  \n",
       "2186  1.050929e-02         MSH3  \n",
       "2667  2.833779e-02         PMS1  "
      ]
     },
     "execution_count": 68,
     "metadata": {},
     "output_type": "execute_result"
    }
   ],
   "source": [
    "msi_str.loc[msi_str[\"gene_name\"].str.contains(\"|\".join(mmr), regex=True, na=False)]"
   ]
  },
  {
   "attachments": {},
   "cell_type": "markdown",
   "metadata": {},
   "source": [
    "#### MSI related genes\n",
    "Top 1,000 most recurrently altered MS loci in COAD, STAD and UCEC MSI-H exomes. (XLS 128 kb) <br>\n",
    "Cortes-Ciriano, Isidro, et al. \"A molecular portrait of microsatellite instability across multiple cancers.\" Nature communications 8.1 (2017): 15180."
   ]
  },
  {
   "cell_type": "code",
   "execution_count": 104,
   "metadata": {},
   "outputs": [],
   "source": [
    "str_paper = pd.read_csv(\"41467_2017_BFncomms15180_MOESM271_ESM.csv\")"
   ]
  },
  {
   "cell_type": "code",
   "execution_count": 105,
   "metadata": {},
   "outputs": [
    {
     "data": {
      "text/plain": [
       "213"
      ]
     },
     "execution_count": 105,
     "metadata": {},
     "output_type": "execute_result"
    }
   ],
   "source": [
    "np.intersect1d(str_paper[\"LOCATION\"], msi_str[\"gene_name\"].dropna()).size"
   ]
  }
 ],
 "metadata": {
  "kernelspec": {
   "display_name": "Python 3",
   "language": "python",
   "name": "python3"
  },
  "language_info": {
   "codemirror_mode": {
    "name": "ipython",
    "version": 3
   },
   "file_extension": ".py",
   "mimetype": "text/x-python",
   "name": "python",
   "nbconvert_exporter": "python",
   "pygments_lexer": "ipython3",
   "version": "3.10.4"
  },
  "orig_nbformat": 4
 },
 "nbformat": 4,
 "nbformat_minor": 2
}
